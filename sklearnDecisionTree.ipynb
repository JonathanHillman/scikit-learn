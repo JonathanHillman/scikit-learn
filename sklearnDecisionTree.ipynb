{
 "cells": [
  {
   "cell_type": "code",
   "execution_count": 12,
   "metadata": {},
   "outputs": [],
   "source": [
    "#load numpy and pandas\n",
    "import numpy as np\n",
    "import pandas as pd\n",
    "\n",
    "#load module to split data sets\n",
    "from sklearn.model_selection import train_test_split\n",
    "#load tree module\n",
    "from sklearn import tree\n",
    "#import accuracy module\n",
    "from sklearn.metrics import accuracy_score\n",
    "\n",
    "#load iris dataset for testing\n",
    "from sklearn.datasets import load_iris\n",
    "iris = load_iris()\n",
    "\n",
    "#organize data into dataframe and display head to make sure everything is correct\n",
    "X = pd.DataFrame(data = iris['data'], columns = iris['feature_names'])\n",
    "y = np.array(iris['target'])\n",
    "\n",
    "#split data sets\n",
    "X_train, X_test, y_train, y_test = train_test_split(X, y, test_size = 0.33)"
   ]
  },
  {
   "cell_type": "code",
   "execution_count": 13,
   "metadata": {},
   "outputs": [
    {
     "data": {
      "text/plain": [
       "DecisionTreeClassifier(class_weight=None, criterion='gini', max_depth=None,\n",
       "                       max_features=None, max_leaf_nodes=None,\n",
       "                       min_impurity_decrease=0.0, min_impurity_split=None,\n",
       "                       min_samples_leaf=1, min_samples_split=2,\n",
       "                       min_weight_fraction_leaf=0.0, presort=False,\n",
       "                       random_state=None, splitter='best')"
      ]
     },
     "execution_count": 13,
     "metadata": {},
     "output_type": "execute_result"
    }
   ],
   "source": [
    "#load decision tree algorithm into classifier(clf) variable\n",
    "clf = tree.DecisionTreeClassifier()\n",
    "\n",
    "#fit decision tree on data\n",
    "clf.fit(X_train,y_train)"
   ]
  },
  {
   "cell_type": "code",
   "execution_count": 14,
   "metadata": {
    "scrolled": false
   },
   "outputs": [
    {
     "data": {
      "text/plain": [
       "[Text(181.35000000000002, 201.90857142857143, 'X[2] <= 2.35\\ngini = 0.666\\nsamples = 100\\nvalue = [32, 36, 32]'),\n",
       " Text(153.45000000000002, 170.84571428571428, 'gini = 0.0\\nsamples = 32\\nvalue = [32, 0, 0]'),\n",
       " Text(209.25000000000003, 170.84571428571428, 'X[3] <= 1.75\\ngini = 0.498\\nsamples = 68\\nvalue = [0, 36, 32]'),\n",
       " Text(139.5, 139.78285714285715, 'X[2] <= 5.35\\ngini = 0.184\\nsamples = 39\\nvalue = [0, 35, 4]'),\n",
       " Text(111.60000000000001, 108.72, 'X[3] <= 1.65\\ngini = 0.102\\nsamples = 37\\nvalue = [0, 35, 2]'),\n",
       " Text(55.800000000000004, 77.65714285714284, 'X[2] <= 4.95\\ngini = 0.056\\nsamples = 35\\nvalue = [0, 34, 1]'),\n",
       " Text(27.900000000000002, 46.59428571428572, 'gini = 0.0\\nsamples = 33\\nvalue = [0, 33, 0]'),\n",
       " Text(83.7, 46.59428571428572, 'X[1] <= 2.45\\ngini = 0.5\\nsamples = 2\\nvalue = [0, 1, 1]'),\n",
       " Text(55.800000000000004, 15.531428571428563, 'gini = 0.0\\nsamples = 1\\nvalue = [0, 0, 1]'),\n",
       " Text(111.60000000000001, 15.531428571428563, 'gini = 0.0\\nsamples = 1\\nvalue = [0, 1, 0]'),\n",
       " Text(167.4, 77.65714285714284, 'X[1] <= 2.75\\ngini = 0.5\\nsamples = 2\\nvalue = [0, 1, 1]'),\n",
       " Text(139.5, 46.59428571428572, 'gini = 0.0\\nsamples = 1\\nvalue = [0, 0, 1]'),\n",
       " Text(195.3, 46.59428571428572, 'gini = 0.0\\nsamples = 1\\nvalue = [0, 1, 0]'),\n",
       " Text(167.4, 108.72, 'gini = 0.0\\nsamples = 2\\nvalue = [0, 0, 2]'),\n",
       " Text(279.0, 139.78285714285715, 'X[2] <= 4.85\\ngini = 0.067\\nsamples = 29\\nvalue = [0, 1, 28]'),\n",
       " Text(251.10000000000002, 108.72, 'X[1] <= 3.1\\ngini = 0.444\\nsamples = 3\\nvalue = [0, 1, 2]'),\n",
       " Text(223.20000000000002, 77.65714285714284, 'gini = 0.0\\nsamples = 2\\nvalue = [0, 0, 2]'),\n",
       " Text(279.0, 77.65714285714284, 'gini = 0.0\\nsamples = 1\\nvalue = [0, 1, 0]'),\n",
       " Text(306.90000000000003, 108.72, 'gini = 0.0\\nsamples = 26\\nvalue = [0, 0, 26]')]"
      ]
     },
     "execution_count": 14,
     "metadata": {},
     "output_type": "execute_result"
    },
    {
     "data": {
      "image/png": "[encoded data removed]",
      "text/plain": [
       "<Figure size 432x288 with 1 Axes>"
      ]
     },
     "metadata": {
      "needs_background": "light"
     },
     "output_type": "display_data"
    }
   ],
   "source": [
    "#visualize decision tree\n",
    "tree.plot_tree(clf)"
   ]
  },
  {
   "cell_type": "code",
   "execution_count": 15,
   "metadata": {},
   "outputs": [
    {
     "data": {
      "text/plain": [
       "0.98"
      ]
     },
     "execution_count": 15,
     "metadata": {},
     "output_type": "execute_result"
    }
   ],
   "source": [
    "#calculate predicted labels\n",
    "y_pred = clf.predict(X_test)\n",
    "#display accuracy of decision tree\n",
    "accuracy_score(y_pred, y_test)"
   ]
  }
 ],
 "metadata": {
  "kernelspec": {
   "display_name": "Python 3",
   "language": "python",
   "name": "python3"
  },
  "language_info": {
   "codemirror_mode": {
    "name": "ipython",
    "version": 3
   },
   "file_extension": ".py",
   "mimetype": "text/x-python",
   "name": "python",
   "nbconvert_exporter": "python",
   "pygments_lexer": "ipython3",
   "version": "3.7.4"
  }
 },
 "nbformat": 4,
 "nbformat_minor": 2
}
